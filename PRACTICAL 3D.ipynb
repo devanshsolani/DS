{
 "cells": [
  {
   "cell_type": "code",
   "execution_count": 8,
   "metadata": {},
   "outputs": [],
   "source": [
    "def recur_factorial(num):  \n",
    "    if num == 1:  \n",
    "        return num  \n",
    "    else:  \n",
    "        return num*recur_factorial(num-1)"
   ]
  },
  {
   "cell_type": "code",
   "execution_count": 10,
   "metadata": {},
   "outputs": [],
   "source": [
    "def iter_factorial(num):\n",
    "    fact = 1\n",
    "    while num >= 1:\n",
    "        # multiply current number with the product of previous numbers\n",
    "        fact = fact * num\n",
    "        # reduce the number by 1\n",
    "        num = num - 1\n",
    "    return fact"
   ]
  },
  {
   "cell_type": "code",
   "execution_count": 11,
   "metadata": {},
   "outputs": [
    {
     "name": "stdout",
     "output_type": "stream",
     "text": [
      "Enter a number: 5\n",
      "The factorial of 5 using recursion is 120\n",
      "The factorial of 5 using iteration is 120\n"
     ]
    }
   ],
   "source": [
    "num = int(input(\"Enter a number: \"))  \n",
    "if num < 0:  \n",
    "    print(\"Sorry, factorial does not exist for negative numbers\")  \n",
    "elif num == 0:  \n",
    "    print(\"The factorial of 0 is 1\")  \n",
    "else:  \n",
    "    print(\"The factorial of\",num,\"using recursion is\",recur_factorial(num))\n",
    "    print(\"The factorial of\",num,\"using iteration is\",iter_factorial(num))"
   ]
  },
  {
   "cell_type": "code",
   "execution_count": 12,
   "metadata": {},
   "outputs": [
    {
     "name": "stdout",
     "output_type": "stream",
     "text": [
      "The factors of 5 are:\n",
      "1\n",
      "5\n"
     ]
    }
   ],
   "source": [
    "def print_factors(num):\n",
    "    print(\"The factors of\",num,\"are:\")\n",
    "    for i in range(1, num + 1):\n",
    "        if num % i == 0:\n",
    "            print(i)\n",
    "\n",
    "print_factors(num)"
   ]
  },
  {
   "cell_type": "code",
   "execution_count": null,
   "metadata": {},
   "outputs": [],
   "source": []
  }
 ],
 "metadata": {
  "kernelspec": {
   "display_name": "Python 3",
   "language": "python",
   "name": "python3"
  },
  "language_info": {
   "codemirror_mode": {
    "name": "ipython",
    "version": 3
   },
   "file_extension": ".py",
   "mimetype": "text/x-python",
   "name": "python",
   "nbconvert_exporter": "python",
   "pygments_lexer": "ipython3",
   "version": "3.8.5"
  }
 },
 "nbformat": 4,
 "nbformat_minor": 4
}
