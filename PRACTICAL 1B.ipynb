{
 "cells": [
  {
   "cell_type": "code",
   "execution_count": 3,
   "metadata": {},
   "outputs": [
    {
     "name": "stdout",
     "output_type": "stream",
     "text": [
      "The sum of Matrix M1 and M2 =  [[11, 30, -12], [21, 14, 0], [-12, 6, 34]]\n",
      "The multiplication of Matrix M1 and M2 =  [[24, 224, 36], [108, 49, -16], [11, 9, 273]]\n",
      "[[  3   5   4]\n",
      " [  6 -10   8]\n",
      " [  9  15  12]]\n"
     ]
    }
   ],
   "source": [
    "import numpy as np\n",
    "M1 = [[8, 14, -6], \n",
    "      [12,7,4], \n",
    "      [-11,3,21]]\n",
    "\n",
    "M2 = [[3, 16, -6],\n",
    "           [9,7,-4], \n",
    "           [-1,3,13]]\n",
    "\n",
    "M3  = [[0,0,0],\n",
    "       [0,0,0],\n",
    "       [0,0,0]]\n",
    "matrix_length = len(M1)\n",
    "for i in range(len(M1)):\n",
    "    for k in range(len(M2)):\n",
    "            M3[i][k] = M1[i][k] + M2[i][k]\n",
    "\n",
    "print(\"The sum of Matrix M1 and M2 = \", M3)\n",
    "for i in range(len(M1)):\n",
    "    for k in range(len(M2)):\n",
    "            M3[i][k] = M1[i][k] * M2[i][k]\n",
    "\n",
    "print(\"The multiplication of Matrix M1 and M2 = \", M3)\n",
    "M1 = np.array([[3, 6, 9], [5, -10, 15], [4,8,12]])\n",
    "M2 = M1.transpose()\n",
    "\n",
    "print(M2)"
   ]
  },
  {
   "cell_type": "code",
   "execution_count": null,
   "metadata": {},
   "outputs": [],
   "source": []
  }
 ],
 "metadata": {
  "kernelspec": {
   "display_name": "Python 3",
   "language": "python",
   "name": "python3"
  },
  "language_info": {
   "codemirror_mode": {
    "name": "ipython",
    "version": 3
   },
   "file_extension": ".py",
   "mimetype": "text/x-python",
   "name": "python",
   "nbconvert_exporter": "python",
   "pygments_lexer": "ipython3",
   "version": "3.8.5"
  }
 },
 "nbformat": 4,
 "nbformat_minor": 4
}
