{
 "cells": [
  {
   "cell_type": "code",
   "execution_count": 3,
   "metadata": {},
   "outputs": [
    {
     "name": "stdout",
     "output_type": "stream",
     "text": [
      "   0\n",
      "   1\n",
      "   1\n",
      "   0\n",
      "   0\n",
      "   1\n",
      "   0\n",
      "   1\n",
      "   0\n",
      "   0\n",
      "   1\n",
      "   1\n",
      "   0\n",
      "   1\n",
      "   0\n",
      "   0\n",
      "   0\n",
      "   1\n",
      "   0\n",
      "   0\n",
      "   0\n",
      "   0\n",
      "   0\n",
      "   0\n",
      "   0\n"
     ]
    }
   ],
   "source": [
    "class Graph(object):\n",
    "    def __init__(self, size):\n",
    "        self.adjMatrix = []\n",
    "        for i in range(size):\n",
    "            self.adjMatrix.append([0 for i in range(size)])\n",
    "        self.size = size\n",
    "    def add_edge(self, v1, v2):\n",
    "        if v1 == v2:\n",
    "            print(\"Same vertex %d and %d\" % (v1, v2))\n",
    "        self.adjMatrix[v1][v2] = 1\n",
    "        self.adjMatrix[v2][v1] = 1\n",
    "    def remove_edge(self, v1, v2):\n",
    "        if self.adjMatrix[v1][v2] == 0:\n",
    "            print(\"No edge between %d and %d\" % (v1, v2))\n",
    "            return\n",
    "        self.adjMatrix[v1][v2] = 0\n",
    "        self.adjMatrix[v2][v1] = 0\n",
    "    def __len__(self):\n",
    "        return self.size\n",
    "    def print_matrix(self):\n",
    "        for row in self.adjMatrix:\n",
    "            for val in row:\n",
    "                print('{:4}'.format(val)),\n",
    "            print\n",
    "def main():\n",
    "    g = Graph(5)\n",
    "    g.add_edge(0, 1)\n",
    "    g.add_edge(0, 2)\n",
    "    g.add_edge(1, 2)\n",
    "    g.add_edge(2, 0)\n",
    "    g.add_edge(2, 3)\n",
    "    g.print_matrix()\n",
    "if __name__ == '__main__':\n",
    "    main()"
   ]
  },
  {
   "cell_type": "code",
   "execution_count": null,
   "metadata": {},
   "outputs": [],
   "source": []
  },
  {
   "cell_type": "code",
   "execution_count": null,
   "metadata": {},
   "outputs": [],
   "source": []
  },
  {
   "cell_type": "code",
   "execution_count": null,
   "metadata": {},
   "outputs": [],
   "source": []
  },
  {
   "cell_type": "code",
   "execution_count": null,
   "metadata": {},
   "outputs": [],
   "source": []
  },
  {
   "cell_type": "code",
   "execution_count": null,
   "metadata": {},
   "outputs": [],
   "source": []
  },
  {
   "cell_type": "code",
   "execution_count": null,
   "metadata": {},
   "outputs": [],
   "source": []
  },
  {
   "cell_type": "code",
   "execution_count": null,
   "metadata": {},
   "outputs": [],
   "source": []
  },
  {
   "cell_type": "code",
   "execution_count": null,
   "metadata": {},
   "outputs": [],
   "source": []
  }
 ],
 "metadata": {
  "kernelspec": {
   "display_name": "Python 3",
   "language": "python",
   "name": "python3"
  },
  "language_info": {
   "codemirror_mode": {
    "name": "ipython",
    "version": 3
   },
   "file_extension": ".py",
   "mimetype": "text/x-python",
   "name": "python",
   "nbconvert_exporter": "python",
   "pygments_lexer": "ipython3",
   "version": "3.8.5"
  }
 },
 "nbformat": 4,
 "nbformat_minor": 4
}
