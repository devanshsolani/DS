{
 "cells": [
  {
   "cell_type": "code",
   "execution_count": 3,
   "metadata": {},
   "outputs": [
    {
     "name": "stdout",
     "output_type": "stream",
     "text": [
      "[99, 100, None, 113, 114, None, 105, 117, None, 108, None]\n",
      "[113, 117, 97, 100, 114, 108, 116, 105, 99]\n",
      "[3, 7, 9, 1, 4, 9, 6, 6, 0]\n",
      "6\n",
      "9\n",
      "None\n"
     ]
    }
   ],
   "source": [
    "list_ = [113 , 117 , 97 , 100 , 114 , 108 , 116 , 105 , 99]\n",
    "\n",
    "\n",
    "hash_values = []\n",
    "def hash_func(list_):\n",
    "    list_2 = [None for i in range(11)]\n",
    "    for i in list_:\n",
    "        #print(i % len(list_2))\n",
    "        hash_values.append(i % len(list_2))\n",
    "        list_2[i % len(list_2)] = i\n",
    "    print(list_2)\n",
    "    print(list_)\n",
    "    print(hash_values)\n",
    "    print(116 % 11)\n",
    "    print(97 % 11)\n",
    "    \n",
    "    \n",
    "\n",
    "print(hash_func(list_))"
   ]
  },
  {
   "cell_type": "code",
   "execution_count": null,
   "metadata": {},
   "outputs": [],
   "source": []
  }
 ],
 "metadata": {
  "kernelspec": {
   "display_name": "Python 3",
   "language": "python",
   "name": "python3"
  },
  "language_info": {
   "codemirror_mode": {
    "name": "ipython",
    "version": 3
   },
   "file_extension": ".py",
   "mimetype": "text/x-python",
   "name": "python",
   "nbconvert_exporter": "python",
   "pygments_lexer": "ipython3",
   "version": "3.8.5"
  }
 },
 "nbformat": 4,
 "nbformat_minor": 4
}
