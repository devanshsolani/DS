{
 "cells": [
  {
   "cell_type": "code",
   "execution_count": 33,
   "metadata": {},
   "outputs": [
    {
     "name": "stdout",
     "output_type": "stream",
     "text": [
      "Shortest path =  A B D\n"
     ]
    }
   ],
   "source": [
    "def BFS_SP(graph, start, goal): \n",
    "    explored = [] \n",
    "    queue = [[start]] \n",
    "    if start == goal: \n",
    "        print(\"Same Node\") \n",
    "        return\n",
    "    while queue: \n",
    "        path = queue.pop(0) \n",
    "        node = path[-1] \n",
    "        if node not in explored: \n",
    "            neighbours = graph[node] \n",
    "            for neighbour in neighbours: \n",
    "                new_path = list(path) \n",
    "                new_path.append(neighbour) \n",
    "                queue.append(new_path)  \n",
    "                if neighbour == goal: \n",
    "                    print(\"Shortest path = \", *new_path) \n",
    "                    return\n",
    "            explored.append(node) \n",
    "    print(\"So sorry, but a connecting path doesnt exist :\") \n",
    "    return\n",
    "  \n",
    "if __name__ == \"__main__\":       \n",
    "    graph = {'A': ['B', 'E', 'C'], \n",
    "            'B': ['A', 'D', 'E'], \n",
    "            'C': ['A', 'F', 'G'], \n",
    "            'D': ['B', 'E'], \n",
    "            'E': ['A', 'B', 'D'], \n",
    "            'F': ['C'], \n",
    "            'G': ['C']} \n",
    "    BFS_SP(graph, 'A', 'D') "
   ]
  },
  {
   "cell_type": "code",
   "execution_count": null,
   "metadata": {},
   "outputs": [],
   "source": []
  },
  {
   "cell_type": "code",
   "execution_count": null,
   "metadata": {},
   "outputs": [],
   "source": []
  }
 ],
 "metadata": {
  "kernelspec": {
   "display_name": "Python 3",
   "language": "python",
   "name": "python3"
  },
  "language_info": {
   "codemirror_mode": {
    "name": "ipython",
    "version": 3
   },
   "file_extension": ".py",
   "mimetype": "text/x-python",
   "name": "python",
   "nbconvert_exporter": "python",
   "pygments_lexer": "ipython3",
   "version": "3.8.5"
  }
 },
 "nbformat": 4,
 "nbformat_minor": 4
}
