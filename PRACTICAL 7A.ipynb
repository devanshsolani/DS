{
 "cells": [
  {
   "cell_type": "code",
   "execution_count": 2,
   "metadata": {},
   "outputs": [
    {
     "name": "stdout",
     "output_type": "stream",
     "text": [
      "0 --> Allahabad --> Mathura \n",
      "1 --> Punjab --> Noida \n",
      "2 \n",
      "3 \n",
      "4 \n",
      "5 --> Mumbai \n",
      "6 \n",
      "7 \n",
      "8 \n",
      "9 --> Delhi \n"
     ]
    }
   ],
   "source": [
    "def display_hash(hashTable):      \n",
    "    for i in range(len(hashTable)): \n",
    "        print(i, end = \" \") \n",
    "          \n",
    "        for j in hashTable[i]: \n",
    "            print(\"-->\", end = \" \") \n",
    "            print(j, end = \" \") \n",
    "        print() \n",
    "HashTable = [[] for _ in range(10)] \n",
    "def Hashing(keyvalue): \n",
    "    return keyvalue % len(HashTable) \n",
    "def insert(Hashtable, keyvalue, value): \n",
    "      \n",
    "    hash_key = Hashing(keyvalue) \n",
    "    Hashtable[hash_key].append(value) \n",
    "  \n",
    "insert(HashTable, 10, 'Allahabad') \n",
    "insert(HashTable, 25, 'Mumbai') \n",
    "insert(HashTable, 20, 'Mathura') \n",
    "insert(HashTable, 9, 'Delhi') \n",
    "insert(HashTable, 21, 'Punjab') \n",
    "insert(HashTable, 21, 'Noida') \n",
    "  \n",
    "display_hash (HashTable) "
   ]
  },
  {
   "cell_type": "code",
   "execution_count": null,
   "metadata": {},
   "outputs": [],
   "source": []
  },
  {
   "cell_type": "code",
   "execution_count": null,
   "metadata": {},
   "outputs": [],
   "source": []
  },
  {
   "cell_type": "code",
   "execution_count": null,
   "metadata": {},
   "outputs": [],
   "source": []
  },
  {
   "cell_type": "code",
   "execution_count": null,
   "metadata": {},
   "outputs": [],
   "source": []
  },
  {
   "cell_type": "code",
   "execution_count": null,
   "metadata": {},
   "outputs": [],
   "source": []
  },
  {
   "cell_type": "code",
   "execution_count": null,
   "metadata": {},
   "outputs": [],
   "source": []
  },
  {
   "cell_type": "code",
   "execution_count": null,
   "metadata": {},
   "outputs": [],
   "source": []
  },
  {
   "cell_type": "code",
   "execution_count": null,
   "metadata": {},
   "outputs": [],
   "source": []
  }
 ],
 "metadata": {
  "kernelspec": {
   "display_name": "Python 3",
   "language": "python",
   "name": "python3"
  },
  "language_info": {
   "codemirror_mode": {
    "name": "ipython",
    "version": 3
   },
   "file_extension": ".py",
   "mimetype": "text/x-python",
   "name": "python",
   "nbconvert_exporter": "python",
   "pygments_lexer": "ipython3",
   "version": "3.8.5"
  }
 },
 "nbformat": 4,
 "nbformat_minor": 4
}
